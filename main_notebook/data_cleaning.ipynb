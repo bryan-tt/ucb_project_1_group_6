{
 "cells": [
  {
   "cell_type": "code",
   "execution_count": 1,
   "metadata": {},
   "outputs": [],
   "source": [
    "# Dependencies\n",
    "import pandas as pd\n",
    "import matplotlib.pyplot as plt\n",
    "import numpy as np\n",
    "from scipy import stats as st"
   ]
  },
  {
   "cell_type": "code",
   "execution_count": 2,
   "metadata": {},
   "outputs": [],
   "source": [
    "filepath = \"../main_resources/hc_workers/COVID19_ healthcare_workers.csv\"\n",
    "india_df = pd.read_csv(filepath, encoding='cp1252')"
   ]
  },
  {
   "cell_type": "code",
   "execution_count": 3,
   "metadata": {},
   "outputs": [],
   "source": [
    "# Function to turn df.info into a dataframe for reference when cleaning data\n",
    "def get_dataframe_info(df):\n",
    "    \"\"\"\n",
    "    input\n",
    "       df -> DataFrame\n",
    "    output\n",
    "       df_null_counts -> DataFrame Info (sorted)\n",
    "    \"\"\"\n",
    "\n",
    "    df_types = pd.DataFrame(df.dtypes)\n",
    "    df_nulls = df.count()\n",
    "    \n",
    "    df_null_count = pd.concat([df_types, df_nulls], axis=1)\n",
    "    df_null_count = df_null_count.reset_index()\n",
    "    \n",
    "    # Reassign column names\n",
    "    col_names = [\"features\", \"types\", \"non_null_counts\"]\n",
    "    df_null_count.columns = col_names\n",
    "    \n",
    "    # Add this to sort\n",
    "    #df_null_count = df_null_count.sort_values(by=[\"non_null_counts\"], ascending=False)\n",
    "    \n",
    "    return df_null_count"
   ]
  },
  {
   "cell_type": "code",
   "execution_count": 4,
   "metadata": {},
   "outputs": [],
   "source": [
    "# Write df.info to CSV\n",
    "info_df = get_dataframe_info(india_df)\n",
    "# info_df.to_csv(\"og_info.csv\", index=False, header=True)"
   ]
  },
  {
   "cell_type": "code",
   "execution_count": 5,
   "metadata": {},
   "outputs": [
    {
     "data": {
      "text/plain": [
       "(240, 57)"
      ]
     },
     "execution_count": 5,
     "metadata": {},
     "output_type": "execute_result"
    }
   ],
   "source": [
    "# Drop last column since most people did not answer, and answers are custom inputs that are non-categorical\n",
    "cleaned_df = india_df.drop(\"Is there anything else that you would like to share with regard to your mental health and well-being during the COVID-19 phase?\",axis=1)\n",
    "\n",
    "# Drop \"What do you feel about your monetary situation during  the COVID 19 pandemic phase?\". Not relevant to project\n",
    "cleaned_df = cleaned_df.drop(\"What do you feel about your monetary situation during  the COVID 19 pandemic phase?\", axis=1)\n",
    "\n",
    "# Drop \"With regard to travel to the hospital select that which suits you most\" Not relevant to project\n",
    "cleaned_df = cleaned_df.drop(\"With regard to travel to the hospital select that which suits you most\", axis=1)\n",
    "\n",
    "cleaned_df.shape"
   ]
  },
  {
   "cell_type": "code",
   "execution_count": 6,
   "metadata": {},
   "outputs": [
    {
     "data": {
      "text/plain": [
       "(237, 57)"
      ]
     },
     "execution_count": 6,
     "metadata": {},
     "output_type": "execute_result"
    }
   ],
   "source": [
    "# Slice out rows that have more than 30 NaN values (Did not answers more than half the questions)\n",
    "cleaned_df = cleaned_df.loc[cleaned_df.isna().sum(axis=1)<=30,:]\n",
    "cleaned_df.shape"
   ]
  },
  {
   "cell_type": "code",
   "execution_count": 7,
   "metadata": {},
   "outputs": [],
   "source": [
    "# Write cleaned dataframe.info to csv to check \n",
    "info2_df = get_dataframe_info(cleaned_df)\n",
    "# info2_df.to_csv(\"cleaned_info.csv\", index=True, header=True)\n",
    "\n",
    "# Write dataframe with any null values to CSV to view. Autofit columns Width and Go to special, highlight all blanks\n",
    "# cleaned_df.loc[cleaned_df.isna().sum(axis=1)>0,:].to_csv(\"df_null.csv\", index=False, header=True)"
   ]
  },
  {
   "cell_type": "code",
   "execution_count": 8,
   "metadata": {},
   "outputs": [],
   "source": [
    "# Get columns with any null values to discuss what to do (impute, drop, leave null)\n",
    "test = cleaned_df.loc[cleaned_df.isna().sum(axis=1)>0,cleaned_df.isna().sum(axis=0)>0].columns.to_list()\n",
    "x = pd.Series(test)\n",
    "# x.to_csv(\"columns_to_discuss.csv\", index=False, header=False)"
   ]
  },
  {
   "cell_type": "code",
   "execution_count": 9,
   "metadata": {},
   "outputs": [],
   "source": [
    "# # Combining similar values to clean up categories\n",
    "# # Create a list of lists of each category per column\n",
    "\n",
    "# answer_list = []\n",
    "# for i in range(len(cleaned_df.columns)):\n",
    "#     answer_list.append(cleaned_df.iloc[:,i].unique().tolist())\n",
    "\n",
    "# # Check each column one by one, changing num index\n",
    "\n",
    "# num = 17\n",
    "# print(cleaned_df.columns[num])\n",
    "# answer_list[num]"
   ]
  },
  {
   "cell_type": "code",
   "execution_count": 10,
   "metadata": {},
   "outputs": [
    {
     "data": {
      "text/plain": [
       "array(['Family', 'Alone', 'Friends', 'Hospital Hostel'], dtype=object)"
      ]
     },
     "execution_count": 10,
     "metadata": {},
     "output_type": "execute_result"
    }
   ],
   "source": [
    "# Clean column 8 \"During the lockdown period, indicate who you are living with:\"\n",
    "cleaned_df[\"During the lockdown period, indicate who you are living with:\"] = cleaned_df[\"During the lockdown period, indicate who you are living with:\"].replace({\n",
    "    'Hostelers': 'Hospital Hostel',\n",
    "    'Hostel': \"Hospital Hostel\",\n",
    "    'With close family': 'Family',\n",
    "    'With extended family': \"Family\",\n",
    "    'TREATING COVID AND OTHER PATIENTS': \"Hospital Hostel\",\n",
    "    'With hospital staff': \"Hospital Hostel\",\n",
    "    'Co employers': \"Hospital Hostel\",\n",
    "    'Stayed in a hospital,working there day and night for80days ': \"Hospital Hostel\"\n",
    "})\n",
    "\n",
    "cleaned_df.iloc[:,8].unique()"
   ]
  },
  {
   "cell_type": "code",
   "execution_count": 11,
   "metadata": {},
   "outputs": [
    {
     "data": {
      "text/plain": [
       "array(['Yes', 'Somewhat', 'No', 'Not applicable', nan], dtype=object)"
      ]
     },
     "execution_count": 11,
     "metadata": {},
     "output_type": "execute_result"
    }
   ],
   "source": [
    "# Clean column 17 \"The hospital has provided me with adequate personal protective equipment\"\n",
    "cleaned_df[\"The hospital has provided me with adequate personal protective equipment\"] = cleaned_df[\"The hospital has provided me with adequate personal protective equipment\"].replace({\n",
    "    'Hospital has tried its level best to provide but quite often things were not available in the market due to lockdown.': \"No\",\n",
    "    'All except N 95 musk': \"Yes\",\n",
    "    \"My work as a teaching faculty member, I don't have to see patients.\": \"Not applicable\",\n",
    "    'Some': \"Somewhat\",\n",
    "    'Not attached to any Hospital': \"Not applicable\",\n",
    "    'I have arranged adequate  personal  protective  equipments. ': \"Yes\",\n",
    "    'Retired. ': \"Not applicable\",\n",
    "    \"I don't fall into the category who needs to wear it necessarily. My hospital has provided PPE to all those who need it must.\": \"Yes\",\n",
    "    'I purchased  on my own. ': \"No\",\n",
    "    'Not completely': \"No\",\n",
    "    'N95 mask ,examination glove,head cap,handrub ,antiseptic solutions ': \"Yes\",\n",
    "    'Mask and sanataoser': \"Yes\",\n",
    "    'No need of PPE kit because i am in Audit dept': \"Not applicable\",\n",
    "    'average protective ': \"Somewhat\",\n",
    "    'Minimal assistance': \"Somewhat\",\n",
    "    'Glowses': \"Yes\",\n",
    "    'Not in contact with vivid+ patients': \"Not applicable\",\n",
    "    'Not visiting hospital at present. ': \"Not applicable\",\n",
    "    'Pps only': \"Yes\",\n",
    "    'Not adequate initially, ok now': \"Somewhat\"\n",
    "})\n",
    "\n",
    "cleaned_df.iloc[:,17].unique()"
   ]
  },
  {
   "cell_type": "code",
   "execution_count": 12,
   "metadata": {},
   "outputs": [],
   "source": [
    "# Add ID columns so we can merge data on ID\n",
    "cleaned_df = cleaned_df.reset_index()\n",
    "cleaned_df[\"ID\"] = cleaned_df.index"
   ]
  },
  {
   "cell_type": "code",
   "execution_count": 13,
   "metadata": {},
   "outputs": [
    {
     "data": {
      "text/plain": [
       "(237, 7)"
      ]
     },
     "execution_count": 13,
     "metadata": {},
     "output_type": "execute_result"
    }
   ],
   "source": [
    "# Break down col 17: \"During the COVID-19 lockdown, I have received support from (you can select more than one answer)\" into dataframe\n",
    "social_support_series = cleaned_df[\"During the COVID-19 lockdown, I have received support from (you can select more than one answer)\"]\n",
    "social_support_df = social_support_series.str.get_dummies(sep=\", \")\n",
    "\n",
    "# Combine \n",
    "social_support_df[\"Government\"] = social_support_df[['MD of my Hospital', 'My institute ICMR-RMRIMS ', 'police ,municipality ,medical college ']].max(axis=1)\n",
    "# Drop \n",
    "social_support_df = social_support_df.drop(['MD of my Hospital', 'My institute ICMR-RMRIMS ', 'police ,municipality ,medical college '], axis=1)\n",
    "\n",
    "# Combine \n",
    "social_support_df[\"Self\"] = social_support_df[['Self', 'Not working as Healthcare ', 'Nil']].max(axis=1)\n",
    "# Drop \n",
    "social_support_df = social_support_df.drop(['Not working as Healthcare ', 'Nil'], axis=1)\n",
    "\n",
    "# Combine \n",
    "social_support_df['Wife/Husband'] = social_support_df[['Wife/Husband', 'Feoncy']].max(axis=1)\n",
    "# Drop \n",
    "social_support_df = social_support_df.drop('Feoncy', axis=1)\n",
    "\n",
    "# Combine \n",
    "social_support_df['Colleagues'] = social_support_df[['Colleagues', 'colleagues']].max(axis=1)\n",
    "# Drop \n",
    "social_support_df = social_support_df.drop('colleagues', axis=1)\n",
    "\n",
    "\n",
    "# Rename columns\n",
    "social_support_df.columns = ['Sibling', 'Children', 'Colleagues',\n",
    "                             'Extended family (relatives)', 'Parent', \n",
    "                             'Friends', 'Landlord', 'Self', 'Spouse', 'Government']\n",
    "\n",
    "\n",
    "# Combine \n",
    "social_support_df['Family'] = social_support_df[['Sibling', 'Children', 'Extended family (relatives)', 'Parent']].max(axis=1)\n",
    "# Drop \n",
    "social_support_df = social_support_df.drop(['Sibling', 'Children', 'Extended family (relatives)', 'Parent'], axis=1)\n",
    "\n",
    "# Combine \n",
    "social_support_df['Friends'] = social_support_df[['Friends', 'Colleagues']].max(axis=1)\n",
    "# Drop \n",
    "social_support_df = social_support_df.drop('Colleagues', axis=1)\n",
    "\n",
    "\n",
    "social_support_df[\"ID\"] = cleaned_df[\"ID\"]\n",
    "social_support_df.to_csv(\"../main_resources/hc_workers/received_support_from.csv\", index=False, header=True)\n",
    "social_support_df.shape"
   ]
  },
  {
   "cell_type": "code",
   "execution_count": 14,
   "metadata": {},
   "outputs": [
    {
     "data": {
      "text/plain": [
       "(237, 8)"
      ]
     },
     "execution_count": 14,
     "metadata": {},
     "output_type": "execute_result"
    }
   ],
   "source": [
    "# Break down col 18: \"During the COVID-19 lockdown, I faced difficulties/problems with (you can select more than one answer)\" into dataframe\n",
    "\n",
    "problems_series = cleaned_df[\"During the COVID-19 lockdown, I faced difficulties/problems with (you can select more than one answer)\"]\n",
    "\n",
    "problems_df = problems_series.str.get_dummies(sep=\", \")\n",
    "\n",
    "# Combine \n",
    "problems_df[\"No problem\"] = problems_df[[\"No problem\", \"Nil\", \"No\", \"No one\", \"No one \", \"NIL\", \"No problem \", \"No problems\", \"No problems \", \"No problems faced\", \"No restraints faced\", \"Nobody\", \"None\", \"None \", \"None. \", \"Nothing \", \"no one\", \"no problem\", \"none\", \"nothing.\", \"rather supportive environment.\", \"I did not face any issues\", \"I did not face significant problem \", \"I have not faced any difficulty\", \"I stayed in company provided accommodation so no such problems\", \"Faced no problem with children.\"]].max(axis=1)\n",
    "# Drop \n",
    "problems_df = problems_df.drop([\"Nil\", \"No\", \"No one\", \"No one \", \"NIL\", \"No problem \", \"No problems\", \"No problems \", \"No problems faced\", \"No restraints faced\", \"Nobody\", \"None\", \"None \", \"None. \", \"Nothing \", \"no one\", \"no problem\", \"none\", \"nothing.\", \"rather supportive environment.\", \"I did not face any issues\", \"I did not face significant problem \", \"I have not faced any difficulty\", \"I stayed in company provided accommodation so no such problems\", \"Faced no problem with children.\"], axis=1)\n",
    "\n",
    "# Combine \n",
    "problems_df['Society / colony I live in'] = problems_df[[\"Society / colony I live in\", \"Faridabad and Government of Delhi\", \"Government\", \"Govt agencies due to conflicting orders of DM GB Nagar\", \"Faced problems getting 'out of order' things fixed and procure essential things. But not with people.\", \"My patients. \", \"Naibers\", \"Other hospital staff\", \"Police\", \"Police because of pass\", \"Volunteers\", 'Availability of trousers']].max(axis=1)\n",
    "# Drop \n",
    "problems_df = problems_df.drop([\"Faridabad and Government of Delhi\", \"Government\", \"Govt agencies due to conflicting orders of DM GB Nagar\", \"Faced problems getting 'out of order' things fixed and procure essential things. But not with people.\", \"My patients. \", \"Naibers\", \"Other hospital staff\", \"Police\", \"Police because of pass\", \"Volunteers\",'Availability of trousers'], axis=1)\n",
    "\n",
    "problems_df.columns = ['Sibling', 'Children', 'Colleagues', 'Extended family', 'Parent', 'Friends', 'Landlord', 'No problem', 'Self', 'Society / colony I live in', 'Spouse']\n",
    "\n",
    "# Combine \n",
    "problems_df['Family'] = problems_df[['Sibling', 'Children','Extended family', 'Parent']].max(axis=1)\n",
    "# Drop \n",
    "problems_df = problems_df.drop(['Sibling', 'Children','Extended family', 'Parent'], axis=1)\n",
    "\n",
    "# Combine \n",
    "problems_df['Friends'] = problems_df[['Friends', \"Colleagues\"]].max(axis=1)\n",
    "# Drop \n",
    "problems_df = problems_df.drop(\"Colleagues\", axis=1)\n",
    "\n",
    "\n",
    "problems_df.columns = ['Friends', 'Landlord', 'None', 'Self', 'Government', 'Spouse', 'Family']\n",
    "\n",
    "\n",
    "problems_df[\"ID\"] = cleaned_df[\"ID\"]\n",
    "problems_df.to_csv(\"../main_resources/hc_workers/problems_with.csv\", index=False, header=True)\n",
    "problems_df.shape\n"
   ]
  },
  {
   "cell_type": "code",
   "execution_count": 15,
   "metadata": {},
   "outputs": [],
   "source": [
    "# Renaming and deleting columns in research_df:\n",
    "\n",
    "cleaned_df = cleaned_df.rename(columns={\"Timestamp\":\"date\",\n",
    "                                          \"Please indicate your age\":\"age\",\n",
    "                                          \"Gender\":\"gender\",\n",
    "                                          \"Please indicate which Indian State/Union territory you are currently residing in \":\"state\",\n",
    "                                          \"Educational qualification\":\"education_level\",\n",
    "                                          \"Marital status\":\"marital_stayus\",\n",
    "                                          \"Are you currently COVID-19 positive? \":\"tested_positive_self\",\n",
    "                                          \"Do you know any family member(s) or friend(s) who has/have tested positive for COVID-19?\":\"tested_positive_ff\",\n",
    "                                          \"During the lockdown period, indicate who you are living with:\":\"living_with\",\n",
    "                                          \"Have you ever been diagnosed with any anxiety disorder by a health worker like a psychiatrist/psychologist/counselor before?\":\"anxiety_diagnosed\",\n",
    "                                          \"What is the amount of close contact you have with patients\":\"contact_patients\",\n",
    "                                          \"Please choose the category that applies to you\":\"job_description\",\n",
    "                                          \"I am scared of how other people will react if I tell them I work at the hospital during the widespread prevalence of COVID-19.\":\"scared_people_reaction\",\n",
    "                                          \"There have been times when I was not allowed to enter the society/ colony where I live because I am a health care worker.\":\"denied_by_community\",\n",
    "                                          \"My family expresses fear towards my work.\":\"family_fear\",\n",
    "                                          \"During the COVID-19 lockdown, I have received support from (you can select more than one answer)\":\"support_from\",\n",
    "                                          \"During the COVID-19 lockdown, I faced difficulties/problems with (you can select more than one answer)\":\"difficulties_with\",\n",
    "                                          \"The hospital has provided me with adequate personal protective equipment\":\"protection_provided\",\n",
    "                                          \"Do you fear being physically beaten up by patients or their families due to lack of equipment to treat them (like ventilators)? \":\"aggretions_fear\",\n",
    "                                          \"I felt dizzy, lightheaded, or faint, when I read or listened to news about the coronavirus.\":\"colapsed_by_news\",\n",
    "                                          \"I had trouble falling or staying asleep because I was thinking about the coronavirus.\":\"insomnia\",\n",
    "                                          \"I felt paralyzed or frozen when I thought about or was exposed to information about the coronavirus.\":\"frozen_by_info\",\n",
    "                                          \"I lost interest in eating when I thought about or was exposed to information about the coronavirus.\":\"appetite_loss\",\n",
    "                                          \"I felt nauseous or had stomach problems when I thought about or was exposed to information about the coronavirus.\":\"nauseated_by_info\",\n",
    "                                          \"I had disturbing thoughts that I may have caught the coronavirus.\":\"fear_of_infection_self\",\n",
    "                                          \"I had disturbing thoughts that certain people I saw may have the coronavirus.\":\"fear_of_infection_ff\",\n",
    "                                          \"I could not stop thinking about the coronavirus.\":\"anxiety_covid\",\n",
    "                                          \"I dreamed about the coronavirus.\":\"dreams_covid\",\n",
    "                                          \"At my work, I feel bursting with energy\":\"energized_at_work\",\n",
    "                                          \"At my job, I feel strong and vigorous\":\"vigorous_at_work\",\n",
    "                                          \"I am enthusiastic about my job\":\"enthusiastic_at_work\",\n",
    "                                          \"My job inspires me\":\"inspired_at_work\",\n",
    "                                          \"When I get up in the morning, I feel like going to work\":\"motivated_at_work\",\n",
    "                                          \"I feel happy when I am working intensely\":\"happy_at_work\",\n",
    "                                          \"I am proud of the work that I do\":\"proud_at_work\",\n",
    "                                          \"I am immersed in my work\":\"immersed_at_work\",\n",
    "                                          \"I get carried away when I am working\":\"carried_away_at_work\",\n",
    "                                          \"My job made me feel angry.\":\"feel_angry\",\n",
    "                                          \"My job made me feel anxious.\":\"feel_anxious\",\n",
    "                                          \"My job made me feel at ease.\":\"feel_at_ease\",\n",
    "                                          \"My job made me feel bored.\":\"feel_bored\",\n",
    "                                          \"My job made me feel calm.\":\"feel_calm\",\n",
    "                                          \"My job made me feel content.\":\"feel_content\",\n",
    "                                          \"My job made me feel depressed.\":\"feel_depressed\",\n",
    "                                          \"My job made me feel discouraged.\":\"feel_discouraged\",\n",
    "                                          \"My job made me feel disgusted.\":\"feel_disgusted\",\n",
    "                                          \"My job made me feel ecstatic.\":\"feel_ecstatic\",\n",
    "                                          \"My job made me feel energetic.\":\"feel_energetic\",\n",
    "                                          \"My job made me feel enthusiastic.\":\"feel_enthusiastic\",\n",
    "                                          \"My job made me feel excited.\":\"feel_excited\",\n",
    "                                          \"My job made me feel fatigued.\":\"feel_fatigued\",\n",
    "                                          \"My job made me feel frightened.\":\"feel_frightened\",\n",
    "                                          \"My job made me feel furious.\":\"feel_furious\",\n",
    "                                          \"My job made me feel gloomy.\":\"feel_gloomy\",\n",
    "                                          \"My job made me feel inspired.\":\"feel_inspired\",\n",
    "                                          \"My job made me feel relaxed.\":\"feel_relaxed\",\n",
    "                                          \"My job made me feel satisfied.\":\"feel_satisfied\"})\n"
   ]
  },
  {
   "cell_type": "code",
   "execution_count": 16,
   "metadata": {},
   "outputs": [],
   "source": [
    "# Export cleaned dataframe to CSV\n",
    "cleaned_df.to_csv(\"../main_resources/hc_workers/clean_renamed_hcw_df.csv\")"
   ]
  },
  {
   "cell_type": "code",
   "execution_count": null,
   "metadata": {},
   "outputs": [],
   "source": []
  }
 ],
 "metadata": {
  "kernelspec": {
   "display_name": "PythonData",
   "language": "python",
   "name": "python3"
  },
  "language_info": {
   "codemirror_mode": {
    "name": "ipython",
    "version": 3
   },
   "file_extension": ".py",
   "mimetype": "text/x-python",
   "name": "python",
   "nbconvert_exporter": "python",
   "pygments_lexer": "ipython3",
   "version": "3.7.7"
  },
  "orig_nbformat": 4
 },
 "nbformat": 4,
 "nbformat_minor": 2
}
