{
 "cells": [
  {
   "cell_type": "code",
   "execution_count": 16,
   "metadata": {},
   "outputs": [],
   "source": [
    "# Dependencies\n",
    "import pandas as pd\n",
    "import matplotlib.pyplot as plt\n",
    "import numpy as np\n",
    "from scipy import stats as st"
   ]
  },
  {
   "cell_type": "code",
   "execution_count": 17,
   "metadata": {},
   "outputs": [],
   "source": [
    "filepath = \"../main_resources/hc_workers/COVID19_ healthcare_workers.csv\"\n",
    "india_df = pd.read_csv(filepath, encoding='cp1252')"
   ]
  },
  {
   "cell_type": "code",
   "execution_count": 18,
   "metadata": {},
   "outputs": [],
   "source": [
    "# Function to turn df.info into a dataframe for reference when cleaning data\n",
    "def get_dataframe_info(df):\n",
    "    \"\"\"\n",
    "    input\n",
    "       df -> DataFrame\n",
    "    output\n",
    "       df_null_counts -> DataFrame Info (sorted)\n",
    "    \"\"\"\n",
    "\n",
    "    df_types = pd.DataFrame(df.dtypes)\n",
    "    df_nulls = df.count()\n",
    "    \n",
    "    df_null_count = pd.concat([df_types, df_nulls], axis=1)\n",
    "    df_null_count = df_null_count.reset_index()\n",
    "    \n",
    "    # Reassign column names\n",
    "    col_names = [\"features\", \"types\", \"non_null_counts\"]\n",
    "    df_null_count.columns = col_names\n",
    "    \n",
    "    # Add this to sort\n",
    "    #df_null_count = df_null_count.sort_values(by=[\"non_null_counts\"], ascending=False)\n",
    "    \n",
    "    return df_null_count"
   ]
  },
  {
   "cell_type": "code",
   "execution_count": 19,
   "metadata": {},
   "outputs": [],
   "source": [
    "# Write df.info to CSV\n",
    "info_df = get_dataframe_info(india_df)\n",
    "info_df.to_csv(\"og_info.csv\", index=False, header=True)"
   ]
  },
  {
   "cell_type": "code",
   "execution_count": 20,
   "metadata": {},
   "outputs": [
    {
     "data": {
      "text/plain": [
       "(240, 57)"
      ]
     },
     "execution_count": 20,
     "metadata": {},
     "output_type": "execute_result"
    }
   ],
   "source": [
    "# Drop last column since most people did not answer, and answers are custom inputs that are non-categorical\n",
    "cleaned_df = india_df.drop(\"Is there anything else that you would like to share with regard to your mental health and well-being during the COVID-19 phase?\",axis=1)\n",
    "\n",
    "# Drop \"What do you feel about your monetary situation during  the COVID 19 pandemic phase?\". Not relevant to project\n",
    "cleaned_df = cleaned_df.drop(\"What do you feel about your monetary situation during  the COVID 19 pandemic phase?\", axis=1)\n",
    "\n",
    "# Drop \"With regard to travel to the hospital select that which suits you most\" Not relevant to project\n",
    "cleaned_df = cleaned_df.drop(\"With regard to travel to the hospital select that which suits you most\", axis=1)\n",
    "\n",
    "cleaned_df.shape"
   ]
  },
  {
   "cell_type": "code",
   "execution_count": 21,
   "metadata": {},
   "outputs": [
    {
     "data": {
      "text/plain": [
       "(237, 57)"
      ]
     },
     "execution_count": 21,
     "metadata": {},
     "output_type": "execute_result"
    }
   ],
   "source": [
    "# Slice out rows that have more than 30 NaN values (Did not answers more than half the questions)\n",
    "cleaned_df = cleaned_df.loc[cleaned_df.isna().sum(axis=1)<=30,:]\n",
    "cleaned_df.shape"
   ]
  },
  {
   "cell_type": "code",
   "execution_count": 22,
   "metadata": {},
   "outputs": [],
   "source": [
    "# Write cleaned dataframe.info to csv to check \n",
    "info2_df = get_dataframe_info(cleaned_df)\n",
    "info2_df.to_csv(\"cleaned_info.csv\", index=True, header=True)\n",
    "\n",
    "# Write dataframe with any null values to CSV to view. Autofit columns Width and Go to special, highlight all blanks\n",
    "cleaned_df.loc[cleaned_df.isna().sum(axis=1)>0,:].to_csv(\"df_null.csv\", index=False, header=True)"
   ]
  },
  {
   "cell_type": "code",
   "execution_count": 23,
   "metadata": {},
   "outputs": [],
   "source": [
    "# Get columns with any null values to discuss what to do (impute, drop, leave null)\n",
    "test = cleaned_df.loc[cleaned_df.isna().sum(axis=1)>0,cleaned_df.isna().sum(axis=0)>0].columns.to_list()\n",
    "x = pd.Series(test)\n",
    "x.to_csv(\"columns_to_discuss.csv\", index=False, header=False)"
   ]
  },
  {
   "cell_type": "code",
   "execution_count": 24,
   "metadata": {},
   "outputs": [],
   "source": [
    "# # Combining similar values to clean up categories\n",
    "# # Create a list of lists of each category per column\n",
    "\n",
    "# answer_list = []\n",
    "# for i in range(len(cleaned_df.columns)):\n",
    "#     answer_list.append(cleaned_df.iloc[:,i].unique().tolist())\n",
    "\n",
    "# # Check each column one by one, changing num index\n",
    "\n",
    "# num = 17\n",
    "# print(cleaned_df.columns[num])\n",
    "# answer_list[num]"
   ]
  },
  {
   "cell_type": "code",
   "execution_count": 25,
   "metadata": {},
   "outputs": [
    {
     "data": {
      "text/plain": [
       "array(['Family', 'Alone', 'Friends', 'Hospital Hostel'], dtype=object)"
      ]
     },
     "execution_count": 25,
     "metadata": {},
     "output_type": "execute_result"
    }
   ],
   "source": [
    "# Clean column 8 \"During the lockdown period, indicate who you are living with:\"\n",
    "cleaned_df[\"During the lockdown period, indicate who you are living with:\"] = cleaned_df[\"During the lockdown period, indicate who you are living with:\"].replace({\n",
    "    'Hostelers': 'Hospital Hostel',\n",
    "    'Hostel': \"Hospital Hostel\",\n",
    "    'With close family': 'Family',\n",
    "    'With extended family': \"Family\",\n",
    "    'TREATING COVID AND OTHER PATIENTS': \"Hospital Hostel\",\n",
    "    'With hospital staff': \"Hospital Hostel\",\n",
    "    'Co employers': \"Hospital Hostel\",\n",
    "    'Stayed in a hospital,working there day and night for80days ': \"Hospital Hostel\"\n",
    "})\n",
    "\n",
    "cleaned_df.iloc[:,8].unique()"
   ]
  },
  {
   "cell_type": "code",
   "execution_count": 26,
   "metadata": {},
   "outputs": [
    {
     "data": {
      "text/plain": [
       "array(['Yes', 'Somewhat', 'No', 'Not applicable', nan], dtype=object)"
      ]
     },
     "execution_count": 26,
     "metadata": {},
     "output_type": "execute_result"
    }
   ],
   "source": [
    "# Clean column 17 \"The hospital has provided me with adequate personal protective equipment\"\n",
    "cleaned_df[\"The hospital has provided me with adequate personal protective equipment\"] = cleaned_df[\"The hospital has provided me with adequate personal protective equipment\"].replace({\n",
    "    'Hospital has tried its level best to provide but quite often things were not available in the market due to lockdown.': \"No\",\n",
    "    'All except N 95 musk': \"Yes\",\n",
    "    \"My work as a teaching faculty member, I don't have to see patients.\": \"Not applicable\",\n",
    "    'Some': \"Somewhat\",\n",
    "    'Not attached to any Hospital': \"Not applicable\",\n",
    "    'I have arranged adequate  personal  protective  equipments. ': \"Yes\",\n",
    "    'Retired. ': \"Not applicable\",\n",
    "    \"I don't fall into the category who needs to wear it necessarily. My hospital has provided PPE to all those who need it must.\": \"Yes\",\n",
    "    'I purchased  on my own. ': \"No\",\n",
    "    'Not completely': \"No\",\n",
    "    'N95 mask ,examination glove,head cap,handrub ,antiseptic solutions ': \"Yes\",\n",
    "    'Mask and sanataoser': \"Yes\",\n",
    "    'No need of PPE kit because i am in Audit dept': \"Not applicable\",\n",
    "    'average protective ': \"Somewhat\",\n",
    "    'Minimal assistance': \"Somewhat\",\n",
    "    'Glowses': \"Yes\",\n",
    "    'Not in contact with vivid+ patients': \"Not applicable\",\n",
    "    'Not visiting hospital at present. ': \"Not applicable\",\n",
    "    'Pps only': \"Yes\",\n",
    "    'Not adequate initially, ok now': \"Somewhat\"\n",
    "})\n",
    "\n",
    "cleaned_df.iloc[:,17].unique()"
   ]
  },
  {
   "cell_type": "code",
   "execution_count": 30,
   "metadata": {},
   "outputs": [],
   "source": [
    "# Add ID columns so we can merge data on ID\n",
    "cleaned_df = cleaned_df.reset_index()\n",
    "cleaned_df[\"ID\"] = cleaned_df.index\n",
    "\n",
    "# Export cleaned dataframe to CSV\n",
    "cleaned_df.to_csv(\"../main_resources/hc_workers/cleaned_hcw_df.csv\", index=False, header=True)"
   ]
  },
  {
   "cell_type": "code",
   "execution_count": 28,
   "metadata": {},
   "outputs": [
    {
     "data": {
      "text/plain": [
       "(237, 7)"
      ]
     },
     "execution_count": 28,
     "metadata": {},
     "output_type": "execute_result"
    }
   ],
   "source": [
    "# Break down col 17: \"During the COVID-19 lockdown, I have received support from (you can select more than one answer)\" into dataframe\n",
    "social_support_series = cleaned_df[\"During the COVID-19 lockdown, I have received support from (you can select more than one answer)\"]\n",
    "social_support_df = social_support_series.str.get_dummies(sep=\", \")\n",
    "\n",
    "# Combine \n",
    "social_support_df[\"Government\"] = social_support_df[['MD of my Hospital', 'My institute ICMR-RMRIMS ', 'police ,municipality ,medical college ']].max(axis=1)\n",
    "# Drop \n",
    "social_support_df = social_support_df.drop(['MD of my Hospital', 'My institute ICMR-RMRIMS ', 'police ,municipality ,medical college '], axis=1)\n",
    "\n",
    "# Combine \n",
    "social_support_df[\"Self\"] = social_support_df[['Self', 'Not working as Healthcare ', 'Nil']].max(axis=1)\n",
    "# Drop \n",
    "social_support_df = social_support_df.drop(['Not working as Healthcare ', 'Nil'], axis=1)\n",
    "\n",
    "# Combine \n",
    "social_support_df['Wife/Husband'] = social_support_df[['Wife/Husband', 'Feoncy']].max(axis=1)\n",
    "# Drop \n",
    "social_support_df = social_support_df.drop('Feoncy', axis=1)\n",
    "\n",
    "# Combine \n",
    "social_support_df['Colleagues'] = social_support_df[['Colleagues', 'colleagues']].max(axis=1)\n",
    "# Drop \n",
    "social_support_df = social_support_df.drop('colleagues', axis=1)\n",
    "\n",
    "\n",
    "# Rename columns\n",
    "social_support_df.columns = ['Sibling', 'Children', 'Colleagues',\n",
    "                             'Extended family (relatives)', 'Parent', \n",
    "                             'Friends', 'Landlord', 'Self', 'Spouse', 'Government']\n",
    "\n",
    "\n",
    "# Combine \n",
    "social_support_df['Family'] = social_support_df[['Sibling', 'Children', 'Extended family (relatives)', 'Parent']].max(axis=1)\n",
    "# Drop \n",
    "social_support_df = social_support_df.drop(['Sibling', 'Children', 'Extended family (relatives)', 'Parent'], axis=1)\n",
    "\n",
    "# Combine \n",
    "social_support_df['Friends'] = social_support_df[['Friends', 'Colleagues']].max(axis=1)\n",
    "# Drop \n",
    "social_support_df = social_support_df.drop('Colleagues', axis=1)\n",
    "\n",
    "\n",
    "social_support_df[\"ID\"] = cleaned_df[\"ID\"]\n",
    "social_support_df.to_csv(\"../main_resources/hc_workers/received_support_from.csv\", index=False, header=True)\n",
    "social_support_df.shape"
   ]
  },
  {
   "cell_type": "code",
   "execution_count": 29,
   "metadata": {},
   "outputs": [
    {
     "data": {
      "text/plain": [
       "(237, 8)"
      ]
     },
     "execution_count": 29,
     "metadata": {},
     "output_type": "execute_result"
    }
   ],
   "source": [
    "# Break down col 18: \"During the COVID-19 lockdown, I faced difficulties/problems with (you can select more than one answer)\" into dataframe\n",
    "\n",
    "problems_series = cleaned_df[\"During the COVID-19 lockdown, I faced difficulties/problems with (you can select more than one answer)\"]\n",
    "\n",
    "problems_df = problems_series.str.get_dummies(sep=\", \")\n",
    "\n",
    "# Combine \n",
    "problems_df[\"No problem\"] = problems_df[[\"No problem\", \"Nil\", \"No\", \"No one\", \"No one \", \"NIL\", \"No problem \", \"No problems\", \"No problems \", \"No problems faced\", \"No restraints faced\", \"Nobody\", \"None\", \"None \", \"None. \", \"Nothing \", \"no one\", \"no problem\", \"none\", \"nothing.\", \"rather supportive environment.\", \"I did not face any issues\", \"I did not face significant problem \", \"I have not faced any difficulty\", \"I stayed in company provided accommodation so no such problems\", \"Faced no problem with children.\"]].max(axis=1)\n",
    "# Drop \n",
    "problems_df = problems_df.drop([\"Nil\", \"No\", \"No one\", \"No one \", \"NIL\", \"No problem \", \"No problems\", \"No problems \", \"No problems faced\", \"No restraints faced\", \"Nobody\", \"None\", \"None \", \"None. \", \"Nothing \", \"no one\", \"no problem\", \"none\", \"nothing.\", \"rather supportive environment.\", \"I did not face any issues\", \"I did not face significant problem \", \"I have not faced any difficulty\", \"I stayed in company provided accommodation so no such problems\", \"Faced no problem with children.\"], axis=1)\n",
    "\n",
    "# Combine \n",
    "problems_df['Society / colony I live in'] = problems_df[[\"Society / colony I live in\", \"Faridabad and Government of Delhi\", \"Government\", \"Govt agencies due to conflicting orders of DM GB Nagar\", \"Faced problems getting 'out of order' things fixed and procure essential things. But not with people.\", \"My patients. \", \"Naibers\", \"Other hospital staff\", \"Police\", \"Police because of pass\", \"Volunteers\", 'Availability of trousers']].max(axis=1)\n",
    "# Drop \n",
    "problems_df = problems_df.drop([\"Faridabad and Government of Delhi\", \"Government\", \"Govt agencies due to conflicting orders of DM GB Nagar\", \"Faced problems getting 'out of order' things fixed and procure essential things. But not with people.\", \"My patients. \", \"Naibers\", \"Other hospital staff\", \"Police\", \"Police because of pass\", \"Volunteers\",'Availability of trousers'], axis=1)\n",
    "\n",
    "problems_df.columns = ['Sibling', 'Children', 'Colleagues', 'Extended family', 'Parent', 'Friends', 'Landlord', 'No problem', 'Self', 'Society / colony I live in', 'Spouse']\n",
    "\n",
    "# Combine \n",
    "problems_df['Family'] = problems_df[['Sibling', 'Children','Extended family', 'Parent']].max(axis=1)\n",
    "# Drop \n",
    "problems_df = problems_df.drop(['Sibling', 'Children','Extended family', 'Parent'], axis=1)\n",
    "\n",
    "# Combine \n",
    "problems_df['Friends'] = problems_df[['Friends', \"Colleagues\"]].max(axis=1)\n",
    "# Drop \n",
    "problems_df = problems_df.drop(\"Colleagues\", axis=1)\n",
    "\n",
    "\n",
    "problems_df.columns = ['Friends', 'Landlord', 'None', 'Self', 'Government', 'Spouse', 'Family']\n",
    "\n",
    "\n",
    "problems_df[\"ID\"] = cleaned_df[\"ID\"]\n",
    "problems_df.to_csv(\"../main_resources/hc_workers/problems_with.csv\", index=False, header=True)\n",
    "problems_df.shape\n"
   ]
  },
  {
   "cell_type": "code",
   "execution_count": null,
   "metadata": {},
   "outputs": [],
   "source": []
  }
 ],
 "metadata": {
  "kernelspec": {
   "display_name": "PythonData",
   "language": "python",
   "name": "python3"
  },
  "language_info": {
   "codemirror_mode": {
    "name": "ipython",
    "version": 3
   },
   "file_extension": ".py",
   "mimetype": "text/x-python",
   "name": "python",
   "nbconvert_exporter": "python",
   "pygments_lexer": "ipython3",
   "version": "3.7.7"
  },
  "orig_nbformat": 4
 },
 "nbformat": 4,
 "nbformat_minor": 2
}
