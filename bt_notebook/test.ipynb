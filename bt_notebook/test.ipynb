{
 "cells": [
  {
   "cell_type": "code",
   "execution_count": 1,
   "metadata": {},
   "outputs": [],
   "source": [
    "# Dependencies\n",
    "import pandas as pd\n",
    "import matplotlib.pyplot as plt\n",
    "import numpy as np\n",
    "from scipy import stats as st"
   ]
  },
  {
   "cell_type": "code",
   "execution_count": 4,
   "metadata": {},
   "outputs": [
    {
     "data": {
      "text/plain": [
       "Index(['date', 'age', 'gender', 'state', 'education_level', 'marital_status',\n",
       "       'tested_positive_self', 'tested_positive_ff', 'living_with',\n",
       "       'anxiety_diagnosed', 'contact_patients', 'job_description',\n",
       "       'scared_people_reaction', 'denied_by_community', 'family_fear',\n",
       "       'support_from', 'difficulties_with', 'protection_provided',\n",
       "       'aggretions_fear', 'colapsed_by_news', 'insomnia', 'frozen_by_info',\n",
       "       'appetite_loss', 'nauseated_by_info', 'fear_of_infection_self',\n",
       "       'fear_of_infection_ff', 'anxiety_covid', 'dreams_covid',\n",
       "       'energized_at_work', 'vigorous_at_work', 'enthusiastic_at_work',\n",
       "       'inspired_at_work', 'motivated_at_work', 'happy_at_work',\n",
       "       'proud_at_work', 'immersed_at_work', 'carried_away_at_work',\n",
       "       'feel_angry', 'feel_anxious', 'feel_at_ease', 'feel_bored', 'feel_calm',\n",
       "       'feel_content', 'feel_depressed', 'feel_discouraged', 'feel_disgusted',\n",
       "       'feel_ecstatic', 'feel_energetic', 'feel_enthusiastic', 'feel_excited',\n",
       "       'feel_fatigued', 'feel_frightened', 'feel_furious', 'feel_gloomy',\n",
       "       'feel_inspired', 'feel_relaxed', 'feel_satisfied', 'ID'],\n",
       "      dtype='object')"
      ]
     },
     "execution_count": 4,
     "metadata": {},
     "output_type": "execute_result"
    }
   ],
   "source": [
    "filepath = \"../main_resources/hc_workers/clean_renamed_hcw_df.csv\"\n",
    "df = pd.read_csv(filepath)\n",
    "df.columns"
   ]
  },
  {
   "cell_type": "code",
   "execution_count": 21,
   "metadata": {},
   "outputs": [
    {
     "data": {
      "text/html": [
       "<div>\n",
       "<style scoped>\n",
       "    .dataframe tbody tr th:only-of-type {\n",
       "        vertical-align: middle;\n",
       "    }\n",
       "\n",
       "    .dataframe tbody tr th {\n",
       "        vertical-align: top;\n",
       "    }\n",
       "\n",
       "    .dataframe thead th {\n",
       "        text-align: right;\n",
       "    }\n",
       "</style>\n",
       "<table border=\"1\" class=\"dataframe\">\n",
       "  <thead>\n",
       "    <tr style=\"text-align: right;\">\n",
       "      <th></th>\n",
       "      <th>energized_at_work</th>\n",
       "      <th>vigorous_at_work</th>\n",
       "    </tr>\n",
       "  </thead>\n",
       "  <tbody>\n",
       "    <tr>\n",
       "      <th>0</th>\n",
       "      <td>1</td>\n",
       "      <td>1</td>\n",
       "    </tr>\n",
       "    <tr>\n",
       "      <th>1</th>\n",
       "      <td>2</td>\n",
       "      <td>2</td>\n",
       "    </tr>\n",
       "    <tr>\n",
       "      <th>2</th>\n",
       "      <td>2</td>\n",
       "      <td>2</td>\n",
       "    </tr>\n",
       "    <tr>\n",
       "      <th>3</th>\n",
       "      <td>1</td>\n",
       "      <td>1</td>\n",
       "    </tr>\n",
       "    <tr>\n",
       "      <th>4</th>\n",
       "      <td>2</td>\n",
       "      <td>2</td>\n",
       "    </tr>\n",
       "    <tr>\n",
       "      <th>...</th>\n",
       "      <td>...</td>\n",
       "      <td>...</td>\n",
       "    </tr>\n",
       "    <tr>\n",
       "      <th>232</th>\n",
       "      <td>-1</td>\n",
       "      <td>1</td>\n",
       "    </tr>\n",
       "    <tr>\n",
       "      <th>233</th>\n",
       "      <td>3</td>\n",
       "      <td>3</td>\n",
       "    </tr>\n",
       "    <tr>\n",
       "      <th>234</th>\n",
       "      <td>3</td>\n",
       "      <td>3</td>\n",
       "    </tr>\n",
       "    <tr>\n",
       "      <th>235</th>\n",
       "      <td>-1</td>\n",
       "      <td>-1</td>\n",
       "    </tr>\n",
       "    <tr>\n",
       "      <th>236</th>\n",
       "      <td>1</td>\n",
       "      <td>3</td>\n",
       "    </tr>\n",
       "  </tbody>\n",
       "</table>\n",
       "<p>237 rows × 2 columns</p>\n",
       "</div>"
      ],
      "text/plain": [
       "     energized_at_work  vigorous_at_work\n",
       "0                    1                 1\n",
       "1                    2                 2\n",
       "2                    2                 2\n",
       "3                    1                 1\n",
       "4                    2                 2\n",
       "..                 ...               ...\n",
       "232                 -1                 1\n",
       "233                  3                 3\n",
       "234                  3                 3\n",
       "235                 -1                -1\n",
       "236                  1                 3\n",
       "\n",
       "[237 rows x 2 columns]"
      ]
     },
     "execution_count": 21,
     "metadata": {},
     "output_type": "execute_result"
    }
   ],
   "source": [
    "# 28\n",
    "df.iloc[:,range(28,30)]"
   ]
  },
  {
   "cell_type": "code",
   "execution_count": 20,
   "metadata": {},
   "outputs": [],
   "source": [
    "df.iloc[:,29] = df.iloc[:,29].replace({\n",
    "        'Often': 1, \n",
    "        'Very often': 2, \n",
    "        'Sometimes': 0, \n",
    "        'Always': 3, \n",
    "        'Never': -3,\n",
    "        'Almost Never': -2, \n",
    "        'Rarely': -1 \n",
    "    })"
   ]
  },
  {
   "cell_type": "code",
   "execution_count": 22,
   "metadata": {},
   "outputs": [],
   "source": [
    "\n",
    "for i in range(28,37):\n",
    "    df.iloc[:,i] = df.iloc[:,i].replace({\n",
    "        'Often': 1, \n",
    "        'Very often': 2, \n",
    "        'Sometimes': 0, \n",
    "        'Always': 3, \n",
    "        'Never': -3,\n",
    "        'Almost Never': -2, \n",
    "        'Rarely': -1 \n",
    "    })\n",
    "\n",
    "\n"
   ]
  },
  {
   "cell_type": "code",
   "execution_count": null,
   "metadata": {},
   "outputs": [],
   "source": [
    "# Clean column 8 \"During the lockdown period, indicate who you are living with:\"\n",
    "cleaned_df[\"During the lockdown period, indicate who you are living with:\"] = cleaned_df[\"During the lockdown period, indicate who you are living with:\"].replace({\n",
    "    'Hostelers': 'Hospital Hostel',\n",
    "    'Hostel': \"Hospital Hostel\",\n",
    "    'With close family': 'Family',\n",
    "    'With extended family': \"Family\",\n",
    "    'TREATING COVID AND OTHER PATIENTS': \"Hospital Hostel\",\n",
    "    'With hospital staff': \"Hospital Hostel\",\n",
    "    'Co employers': \"Hospital Hostel\",\n",
    "    'Stayed in a hospital,working there day and night for80days ': \"Hospital Hostel\"\n",
    "})\n",
    "\n",
    "cleaned_df.iloc[:,8].unique()"
   ]
  }
 ],
 "metadata": {
  "kernelspec": {
   "display_name": "PythonData",
   "language": "python",
   "name": "python3"
  },
  "language_info": {
   "codemirror_mode": {
    "name": "ipython",
    "version": 3
   },
   "file_extension": ".py",
   "mimetype": "text/x-python",
   "name": "python",
   "nbconvert_exporter": "python",
   "pygments_lexer": "ipython3",
   "version": "3.7.7"
  },
  "orig_nbformat": 4
 },
 "nbformat": 4,
 "nbformat_minor": 2
}
