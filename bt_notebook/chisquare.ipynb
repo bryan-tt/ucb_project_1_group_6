{
 "cells": [
  {
   "attachments": {},
   "cell_type": "markdown",
   "metadata": {},
   "source": [
    "## Chi-square Test"
   ]
  },
  {
   "cell_type": "code",
   "execution_count": 2,
   "metadata": {},
   "outputs": [],
   "source": [
    "# Dependencies\n",
    "import pandas as pd\n",
    "import matplotlib.pyplot as plt\n",
    "import numpy as np\n",
    "import seaborn as sns\n",
    "from scipy import stats as st"
   ]
  },
  {
   "cell_type": "code",
   "execution_count": 3,
   "metadata": {},
   "outputs": [
    {
     "data": {
      "text/plain": [
       "Index(['date', 'age', 'gender', 'state', 'education_level', 'marital_status',\n",
       "       'tested_positive_self', 'tested_positive_ff', 'living_with',\n",
       "       'anxiety_diagnosed', 'contact_patients', 'job_description',\n",
       "       'scared_people_reaction', 'denied_by_community', 'family_fear',\n",
       "       'support_from', 'difficulties_with', 'protection_provided',\n",
       "       'aggretions_fear', 'colapsed_by_news', 'insomnia', 'frozen_by_info',\n",
       "       'appetite_loss', 'nauseated_by_info', 'fear_of_infection_self',\n",
       "       'fear_of_infection_ff', 'anxiety_covid', 'dreams_covid',\n",
       "       'energized_at_work', 'vigorous_at_work', 'enthusiastic_at_work',\n",
       "       'inspired_at_work', 'motivated_at_work', 'happy_at_work',\n",
       "       'proud_at_work', 'immersed_at_work', 'carried_away_at_work',\n",
       "       'feel_angry', 'feel_anxious', 'feel_at_ease', 'feel_bored', 'feel_calm',\n",
       "       'feel_content', 'feel_depressed', 'feel_discouraged', 'feel_disgusted',\n",
       "       'feel_ecstatic', 'feel_energetic', 'feel_enthusiastic', 'feel_excited',\n",
       "       'feel_fatigued', 'feel_frightened', 'feel_furious', 'feel_gloomy',\n",
       "       'feel_inspired', 'feel_relaxed', 'feel_satisfied', 'ID'],\n",
       "      dtype='object')"
      ]
     },
     "execution_count": 3,
     "metadata": {},
     "output_type": "execute_result"
    }
   ],
   "source": [
    "# Read in data\n",
    "file_path = \"../main_resources/hc_workers/clean_renamed_hcw_df.csv\"\n",
    "cleaned_df = pd.read_csv(file_path)\n",
    "cleaned_df.columns"
   ]
  },
  {
   "attachments": {},
   "cell_type": "markdown",
   "metadata": {},
   "source": [
    "### 1. Define the null hypothesis (H<sub>0</sub>) and the alternative hypothesis (H<sub>a</sub>).\n",
    "* H<sub>0</sub>: There is no association between the two categorical variables.\n",
    "* H<sub>a</sub>: There is an association between the two categorical variables."
   ]
  },
  {
   "attachments": {},
   "cell_type": "markdown",
   "metadata": {},
   "source": [
    "### 2. Construct a contingency table."
   ]
  },
  {
   "cell_type": "code",
   "execution_count": 4,
   "metadata": {},
   "outputs": [
    {
     "data": {
      "text/html": [
       "<div>\n",
       "<style scoped>\n",
       "    .dataframe tbody tr th:only-of-type {\n",
       "        vertical-align: middle;\n",
       "    }\n",
       "\n",
       "    .dataframe tbody tr th {\n",
       "        vertical-align: top;\n",
       "    }\n",
       "\n",
       "    .dataframe thead th {\n",
       "        text-align: right;\n",
       "    }\n",
       "</style>\n",
       "<table border=\"1\" class=\"dataframe\">\n",
       "  <thead>\n",
       "    <tr style=\"text-align: right;\">\n",
       "      <th>feel_anxious</th>\n",
       "      <th>1</th>\n",
       "      <th>2</th>\n",
       "      <th>3</th>\n",
       "      <th>4</th>\n",
       "      <th>5</th>\n",
       "    </tr>\n",
       "    <tr>\n",
       "      <th>job_description</th>\n",
       "      <th></th>\n",
       "      <th></th>\n",
       "      <th></th>\n",
       "      <th></th>\n",
       "      <th></th>\n",
       "    </tr>\n",
       "  </thead>\n",
       "  <tbody>\n",
       "    <tr>\n",
       "      <th>Consultant</th>\n",
       "      <td>13</td>\n",
       "      <td>13</td>\n",
       "      <td>8</td>\n",
       "      <td>2</td>\n",
       "      <td>0</td>\n",
       "    </tr>\n",
       "    <tr>\n",
       "      <th>Doctor</th>\n",
       "      <td>19</td>\n",
       "      <td>24</td>\n",
       "      <td>13</td>\n",
       "      <td>8</td>\n",
       "      <td>1</td>\n",
       "    </tr>\n",
       "    <tr>\n",
       "      <th>Grade four staff</th>\n",
       "      <td>1</td>\n",
       "      <td>0</td>\n",
       "      <td>4</td>\n",
       "      <td>0</td>\n",
       "      <td>0</td>\n",
       "    </tr>\n",
       "    <tr>\n",
       "      <th>Grade three staff</th>\n",
       "      <td>14</td>\n",
       "      <td>3</td>\n",
       "      <td>2</td>\n",
       "      <td>1</td>\n",
       "      <td>7</td>\n",
       "    </tr>\n",
       "    <tr>\n",
       "      <th>Middle management</th>\n",
       "      <td>17</td>\n",
       "      <td>5</td>\n",
       "      <td>10</td>\n",
       "      <td>1</td>\n",
       "      <td>7</td>\n",
       "    </tr>\n",
       "    <tr>\n",
       "      <th>Nursing staff</th>\n",
       "      <td>14</td>\n",
       "      <td>12</td>\n",
       "      <td>9</td>\n",
       "      <td>6</td>\n",
       "      <td>10</td>\n",
       "    </tr>\n",
       "    <tr>\n",
       "      <th>Top management</th>\n",
       "      <td>7</td>\n",
       "      <td>3</td>\n",
       "      <td>0</td>\n",
       "      <td>1</td>\n",
       "      <td>0</td>\n",
       "    </tr>\n",
       "  </tbody>\n",
       "</table>\n",
       "</div>"
      ],
      "text/plain": [
       "feel_anxious        1   2   3  4   5\n",
       "job_description                     \n",
       "Consultant         13  13   8  2   0\n",
       "Doctor             19  24  13  8   1\n",
       "Grade four staff    1   0   4  0   0\n",
       "Grade three staff  14   3   2  1   7\n",
       "Middle management  17   5  10  1   7\n",
       "Nursing staff      14  12   9  6  10\n",
       "Top management      7   3   0  1   0"
      ]
     },
     "execution_count": 4,
     "metadata": {},
     "output_type": "execute_result"
    }
   ],
   "source": [
    "# Construct a contingency table.\n",
    "contingency_table = pd.crosstab(index=cleaned_df[\"job_description\"], columns=cleaned_df[\"feel_anxious\"])\n",
    "contingency_table"
   ]
  },
  {
   "cell_type": "code",
   "execution_count": 7,
   "metadata": {},
   "outputs": [
    {
     "data": {
      "image/png": "[encoded data removed]",
      "text/plain": [
       "<Figure size 432x288 with 2 Axes>"
      ]
     },
     "metadata": {
      "needs_background": "light"
     },
     "output_type": "display_data"
    }
   ],
   "source": [
    "# Plot heatmap\n",
    "plot = sns.heatmap(contingency_table, annot=True, cmap=\"YlGnBu\", fmt='g')\n",
    "fig = plot.get_figure()\n",
    "fig.savefig(\"../Images/contingency_table.png\")\n",
    "plt.show()"
   ]
  },
  {
   "attachments": {},
   "cell_type": "markdown",
   "metadata": {},
   "source": [
    "### 3. Calculate the expected frequencies for each cell in the contingency table."
   ]
  },
  {
   "cell_type": "code",
   "execution_count": 9,
   "metadata": {},
   "outputs": [
    {
     "data": {
      "text/plain": [
       "array([[13.0212766 ,  9.19148936,  7.04680851,  2.9106383 ,  3.82978723],\n",
       "       [23.5106383 , 16.59574468, 12.72340426,  5.25531915,  6.91489362],\n",
       "       [ 1.80851064,  1.27659574,  0.9787234 ,  0.40425532,  0.53191489],\n",
       "       [ 9.76595745,  6.89361702,  5.28510638,  2.18297872,  2.87234043],\n",
       "       [14.46808511, 10.21276596,  7.82978723,  3.23404255,  4.25531915],\n",
       "       [18.44680851, 13.0212766 ,  9.98297872,  4.12340426,  5.42553191],\n",
       "       [ 3.9787234 ,  2.80851064,  2.15319149,  0.8893617 ,  1.17021277]])"
      ]
     },
     "execution_count": 9,
     "metadata": {},
     "output_type": "execute_result"
    }
   ],
   "source": [
    "# Calculate the expected frequencies for each cell in the contingency table.\n",
    "c, p, dof, expected = st.chi2_contingency(contingency_table)\n",
    "expected"
   ]
  },
  {
   "attachments": {},
   "cell_type": "markdown",
   "metadata": {},
   "source": [
    "### 4. Calculate the Chi-Square statistic."
   ]
  },
  {
   "cell_type": "code",
   "execution_count": 12,
   "metadata": {},
   "outputs": [
    {
     "name": "stdout",
     "output_type": "stream",
     "text": [
      "[ 6.87181945 11.11110759 14.35495406  5.17475892 22.15024719]\n",
      "59.662887210967924\n",
      "59.66288721096792\n"
     ]
    }
   ],
   "source": [
    "chi2stat, chi2stat_p_value = st.chisquare(contingency_table, expected)\n",
    "\n",
    "print(chi2stat)\n",
    "print(chi2stat.sum())\n",
    "print(c)"
   ]
  },
  {
   "attachments": {},
   "cell_type": "markdown",
   "metadata": {},
   "source": [
    "### 5. Determine degree of freedom"
   ]
  },
  {
   "cell_type": "code",
   "execution_count": 14,
   "metadata": {},
   "outputs": [
    {
     "data": {
      "text/plain": [
       "24"
      ]
     },
     "execution_count": 14,
     "metadata": {},
     "output_type": "execute_result"
    }
   ],
   "source": [
    "# Determine degree of freedom = (row - 1)*(column - 1) = (7-1) * (5-1)\n",
    "dof "
   ]
  },
  {
   "attachments": {},
   "cell_type": "markdown",
   "metadata": {},
   "source": [
    "### 6. Look up the critical value of the Chi-Square distribution."
   ]
  },
  {
   "cell_type": "code",
   "execution_count": 16,
   "metadata": {},
   "outputs": [
    {
     "data": {
      "text/plain": [
       "36.41502850180731"
      ]
     },
     "execution_count": 16,
     "metadata": {},
     "output_type": "execute_result"
    }
   ],
   "source": [
    "# Look up the critical value of the Chi-Square distribution.\n",
    "# With a p-value of 0.05, the confidence level is 1.00-0.05 = 0.95.\n",
    "critical_value = st.chi2.ppf(q = 0.95, df = dof)\n",
    "\n",
    "# The critical value\n",
    "critical_value"
   ]
  },
  {
   "attachments": {},
   "cell_type": "markdown",
   "metadata": {},
   "source": [
    "### 7. Compare the calculated Chi-Square value to the critical value.\n",
    "* Since the chi square value of 59.66 exceeds the critical value of 36.42, we can reject the null hypothesis. We can conclude that the results are statistically significant."
   ]
  },
  {
   "attachments": {},
   "cell_type": "markdown",
   "metadata": {},
   "source": [
    "### 8. Interpret the results.\n",
    "* There is an association between job function and the level of anxiety."
   ]
  }
 ],
 "metadata": {
  "kernelspec": {
   "display_name": "PythonData",
   "language": "python",
   "name": "python3"
  },
  "language_info": {
   "codemirror_mode": {
    "name": "ipython",
    "version": 3
   },
   "file_extension": ".py",
   "mimetype": "text/x-python",
   "name": "python",
   "nbconvert_exporter": "python",
   "pygments_lexer": "ipython3",
   "version": "3.7.7"
  },
  "orig_nbformat": 4
 },
 "nbformat": 4,
 "nbformat_minor": 2
}
